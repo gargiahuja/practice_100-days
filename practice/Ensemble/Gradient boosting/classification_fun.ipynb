{
 "cells": [
  {
   "cell_type": "code",
   "execution_count": 1,
   "id": "22d56f1a",
   "metadata": {},
   "outputs": [],
   "source": [
    "from sklearn.ensemble import GradientBoostingClassifier\n",
    "import numpy as np\n",
    "import seaborn as sns\n",
    "import pandas as pd\n",
    "import matplotlib.pyplot as plt"
   ]
  },
  {
   "cell_type": "code",
   "execution_count": 2,
   "id": "28a2e014",
   "metadata": {},
   "outputs": [],
   "source": [
    "import sklearn.datasets as datasets\n",
    "\n",
    "data = datasets.make_circles(n_samples=100, factor=0.5, noise=0.15, random_state=0)\n",
    "x, y = data[0],data[1]"
   ]
  },
  {
   "cell_type": "code",
   "execution_count": 72,
   "id": "0c398151",
   "metadata": {},
   "outputs": [],
   "source": [
    "gt = GradientBoostingClassifier(\n",
    "    n_estimators=300,\n",
    "    learning_rate=0.05,\n",
    "    max_depth=3,\n",
    "    subsample=0.8,\n",
    "    max_features=\"sqrt\"\n",
    ")\n"
   ]
  },
  {
   "cell_type": "code",
   "execution_count": 73,
   "id": "9c27d222",
   "metadata": {},
   "outputs": [
    {
     "data": {
      "text/html": [
       "<style>#sk-container-id-14 {color: black;}#sk-container-id-14 pre{padding: 0;}#sk-container-id-14 div.sk-toggleable {background-color: white;}#sk-container-id-14 label.sk-toggleable__label {cursor: pointer;display: block;width: 100%;margin-bottom: 0;padding: 0.3em;box-sizing: border-box;text-align: center;}#sk-container-id-14 label.sk-toggleable__label-arrow:before {content: \"▸\";float: left;margin-right: 0.25em;color: #696969;}#sk-container-id-14 label.sk-toggleable__label-arrow:hover:before {color: black;}#sk-container-id-14 div.sk-estimator:hover label.sk-toggleable__label-arrow:before {color: black;}#sk-container-id-14 div.sk-toggleable__content {max-height: 0;max-width: 0;overflow: hidden;text-align: left;background-color: #f0f8ff;}#sk-container-id-14 div.sk-toggleable__content pre {margin: 0.2em;color: black;border-radius: 0.25em;background-color: #f0f8ff;}#sk-container-id-14 input.sk-toggleable__control:checked~div.sk-toggleable__content {max-height: 200px;max-width: 100%;overflow: auto;}#sk-container-id-14 input.sk-toggleable__control:checked~label.sk-toggleable__label-arrow:before {content: \"▾\";}#sk-container-id-14 div.sk-estimator input.sk-toggleable__control:checked~label.sk-toggleable__label {background-color: #d4ebff;}#sk-container-id-14 div.sk-label input.sk-toggleable__control:checked~label.sk-toggleable__label {background-color: #d4ebff;}#sk-container-id-14 input.sk-hidden--visually {border: 0;clip: rect(1px 1px 1px 1px);clip: rect(1px, 1px, 1px, 1px);height: 1px;margin: -1px;overflow: hidden;padding: 0;position: absolute;width: 1px;}#sk-container-id-14 div.sk-estimator {font-family: monospace;background-color: #f0f8ff;border: 1px dotted black;border-radius: 0.25em;box-sizing: border-box;margin-bottom: 0.5em;}#sk-container-id-14 div.sk-estimator:hover {background-color: #d4ebff;}#sk-container-id-14 div.sk-parallel-item::after {content: \"\";width: 100%;border-bottom: 1px solid gray;flex-grow: 1;}#sk-container-id-14 div.sk-label:hover label.sk-toggleable__label {background-color: #d4ebff;}#sk-container-id-14 div.sk-serial::before {content: \"\";position: absolute;border-left: 1px solid gray;box-sizing: border-box;top: 0;bottom: 0;left: 50%;z-index: 0;}#sk-container-id-14 div.sk-serial {display: flex;flex-direction: column;align-items: center;background-color: white;padding-right: 0.2em;padding-left: 0.2em;position: relative;}#sk-container-id-14 div.sk-item {position: relative;z-index: 1;}#sk-container-id-14 div.sk-parallel {display: flex;align-items: stretch;justify-content: center;background-color: white;position: relative;}#sk-container-id-14 div.sk-item::before, #sk-container-id-14 div.sk-parallel-item::before {content: \"\";position: absolute;border-left: 1px solid gray;box-sizing: border-box;top: 0;bottom: 0;left: 50%;z-index: -1;}#sk-container-id-14 div.sk-parallel-item {display: flex;flex-direction: column;z-index: 1;position: relative;background-color: white;}#sk-container-id-14 div.sk-parallel-item:first-child::after {align-self: flex-end;width: 50%;}#sk-container-id-14 div.sk-parallel-item:last-child::after {align-self: flex-start;width: 50%;}#sk-container-id-14 div.sk-parallel-item:only-child::after {width: 0;}#sk-container-id-14 div.sk-dashed-wrapped {border: 1px dashed gray;margin: 0 0.4em 0.5em 0.4em;box-sizing: border-box;padding-bottom: 0.4em;background-color: white;}#sk-container-id-14 div.sk-label label {font-family: monospace;font-weight: bold;display: inline-block;line-height: 1.2em;}#sk-container-id-14 div.sk-label-container {text-align: center;}#sk-container-id-14 div.sk-container {/* jupyter's `normalize.less` sets `[hidden] { display: none; }` but bootstrap.min.css set `[hidden] { display: none !important; }` so we also need the `!important` here to be able to override the default hidden behavior on the sphinx rendered scikit-learn.org. See: https://github.com/scikit-learn/scikit-learn/issues/21755 */display: inline-block !important;position: relative;}#sk-container-id-14 div.sk-text-repr-fallback {display: none;}</style><div id=\"sk-container-id-14\" class=\"sk-top-container\"><div class=\"sk-text-repr-fallback\"><pre>GradientBoostingClassifier(learning_rate=0.05, max_features=&#x27;sqrt&#x27;,\n",
       "                           n_estimators=300, subsample=0.8)</pre><b>In a Jupyter environment, please rerun this cell to show the HTML representation or trust the notebook. <br />On GitHub, the HTML representation is unable to render, please try loading this page with nbviewer.org.</b></div><div class=\"sk-container\" hidden><div class=\"sk-item\"><div class=\"sk-estimator sk-toggleable\"><input class=\"sk-toggleable__control sk-hidden--visually\" id=\"sk-estimator-id-14\" type=\"checkbox\" checked><label for=\"sk-estimator-id-14\" class=\"sk-toggleable__label sk-toggleable__label-arrow\">GradientBoostingClassifier</label><div class=\"sk-toggleable__content\"><pre>GradientBoostingClassifier(learning_rate=0.05, max_features=&#x27;sqrt&#x27;,\n",
       "                           n_estimators=300, subsample=0.8)</pre></div></div></div></div></div>"
      ],
      "text/plain": [
       "GradientBoostingClassifier(learning_rate=0.05, max_features='sqrt',\n",
       "                           n_estimators=300, subsample=0.8)"
      ]
     },
     "execution_count": 73,
     "metadata": {},
     "output_type": "execute_result"
    }
   ],
   "source": [
    "gt.fit(x,y)"
   ]
  },
  {
   "cell_type": "code",
   "execution_count": 74,
   "id": "5fd09a9f",
   "metadata": {},
   "outputs": [],
   "source": [
    "from sklearn.tree import plot_tree"
   ]
  },
  {
   "cell_type": "code",
   "execution_count": 75,
   "id": "be96d166",
   "metadata": {},
   "outputs": [
    {
     "data": {
      "text/plain": [
       "(300, 1)"
      ]
     },
     "execution_count": 75,
     "metadata": {},
     "output_type": "execute_result"
    }
   ],
   "source": [
    "gt.estimators_.shape"
   ]
  },
  {
   "cell_type": "code",
   "execution_count": 76,
   "id": "90020e7c",
   "metadata": {},
   "outputs": [
    {
     "data": {
      "text/plain": [
       "array([0, 1, 0, 1, 1, 1, 0, 1, 1, 1, 1, 1, 1, 0, 0, 0, 0, 0, 0, 0, 0, 1,\n",
       "       0, 1, 0, 0, 0, 1, 1, 1, 1, 1, 1, 1, 1, 0, 0, 1, 1, 1, 0, 1, 0, 0,\n",
       "       0, 0, 0, 0, 0, 0, 1, 1, 0, 0, 0, 1, 0, 0, 0, 1, 0, 0, 1, 1, 1, 1,\n",
       "       0, 1, 0, 1, 0, 0, 0, 1, 1, 1, 0, 1, 1, 1, 0, 0, 1, 0, 0, 1, 1, 0,\n",
       "       1, 1, 1, 0, 0, 1, 0, 1, 1, 1, 0, 0], dtype=int64)"
      ]
     },
     "execution_count": 76,
     "metadata": {},
     "output_type": "execute_result"
    }
   ],
   "source": [
    "gt.predict(x)"
   ]
  },
  {
   "cell_type": "code",
   "execution_count": 77,
   "id": "f25880eb",
   "metadata": {},
   "outputs": [
    {
     "data": {
      "text/plain": [
       "1.0"
      ]
     },
     "execution_count": 77,
     "metadata": {},
     "output_type": "execute_result"
    }
   ],
   "source": [
    "gt.score(x,gt.predict(x))"
   ]
  },
  {
   "cell_type": "code",
   "execution_count": 78,
   "id": "3d1c0b66",
   "metadata": {},
   "outputs": [
    {
     "data": {
      "text/plain": [
       "array([[9.97133029e-01, 2.86697068e-03],\n",
       "       [6.63000431e-04, 9.99337000e-01],\n",
       "       [9.98230078e-01, 1.76992225e-03],\n",
       "       [6.28140135e-04, 9.99371860e-01],\n",
       "       [2.37386043e-03, 9.97626140e-01],\n",
       "       [5.77680942e-04, 9.99422319e-01],\n",
       "       [9.86081771e-01, 1.39182290e-02],\n",
       "       [1.56905669e-03, 9.98430943e-01],\n",
       "       [6.28140135e-04, 9.99371860e-01],\n",
       "       [6.09753105e-04, 9.99390247e-01],\n",
       "       [6.28140135e-04, 9.99371860e-01],\n",
       "       [5.96031143e-04, 9.99403969e-01],\n",
       "       [3.73485001e-04, 9.99626515e-01],\n",
       "       [9.98057123e-01, 1.94287747e-03],\n",
       "       [9.97410700e-01, 2.58930045e-03],\n",
       "       [9.97742549e-01, 2.25745097e-03],\n",
       "       [9.98551610e-01, 1.44839016e-03],\n",
       "       [9.97537022e-01, 2.46297806e-03],\n",
       "       [9.99427244e-01, 5.72755574e-04],\n",
       "       [9.99932530e-01, 6.74696191e-05],\n",
       "       [9.99346999e-01, 6.53001149e-04],\n",
       "       [1.92941874e-03, 9.98070581e-01],\n",
       "       [9.99962240e-01, 3.77602245e-05],\n",
       "       [1.57072126e-03, 9.98429279e-01],\n",
       "       [9.99855755e-01, 1.44244986e-04],\n",
       "       [9.97199072e-01, 2.80092805e-03],\n",
       "       [9.92859242e-01, 7.14075787e-03],\n",
       "       [6.97290149e-03, 9.93027099e-01],\n",
       "       [8.18797202e-04, 9.99181203e-01],\n",
       "       [7.86325692e-04, 9.99213674e-01],\n",
       "       [6.33413540e-04, 9.99366586e-01],\n",
       "       [3.10737043e-03, 9.96892630e-01],\n",
       "       [6.92814623e-04, 9.99307185e-01],\n",
       "       [1.98805142e-03, 9.98011949e-01],\n",
       "       [1.12583537e-03, 9.98874165e-01],\n",
       "       [9.97132986e-01, 2.86701416e-03],\n",
       "       [9.99845645e-01, 1.54354914e-04],\n",
       "       [6.60338967e-04, 9.99339661e-01],\n",
       "       [8.31300842e-03, 9.91686992e-01],\n",
       "       [1.56905669e-03, 9.98430943e-01],\n",
       "       [9.98302722e-01, 1.69727809e-03],\n",
       "       [6.28140135e-04, 9.99371860e-01],\n",
       "       [9.99495856e-01, 5.04143765e-04],\n",
       "       [9.95864264e-01, 4.13573620e-03],\n",
       "       [9.99437204e-01, 5.62796023e-04],\n",
       "       [9.98057871e-01, 1.94212913e-03],\n",
       "       [9.95575925e-01, 4.42407524e-03],\n",
       "       [9.99249794e-01, 7.50206099e-04],\n",
       "       [9.98327155e-01, 1.67284548e-03],\n",
       "       [9.98691459e-01, 1.30854132e-03],\n",
       "       [6.92814623e-04, 9.99307185e-01],\n",
       "       [8.63929815e-04, 9.99136070e-01],\n",
       "       [9.98208375e-01, 1.79162458e-03],\n",
       "       [9.99473557e-01, 5.26442654e-04],\n",
       "       [9.98474785e-01, 1.52521483e-03],\n",
       "       [1.03483674e-02, 9.89651633e-01],\n",
       "       [9.98056276e-01, 1.94372440e-03],\n",
       "       [9.98324290e-01, 1.67571008e-03],\n",
       "       [9.97655198e-01, 2.34480177e-03],\n",
       "       [6.96162708e-04, 9.99303837e-01],\n",
       "       [9.98035850e-01, 1.96414971e-03],\n",
       "       [9.82998821e-01, 1.70011790e-02],\n",
       "       [2.61778653e-03, 9.97382213e-01],\n",
       "       [6.28140135e-04, 9.99371860e-01],\n",
       "       [1.87459060e-02, 9.81254094e-01],\n",
       "       [1.36289255e-03, 9.98637107e-01],\n",
       "       [9.87654892e-01, 1.23451078e-02],\n",
       "       [8.52649240e-04, 9.99147351e-01],\n",
       "       [9.97997404e-01, 2.00259559e-03],\n",
       "       [2.91364480e-02, 9.70863552e-01],\n",
       "       [9.99495861e-01, 5.04139109e-04],\n",
       "       [9.97742922e-01, 2.25707767e-03],\n",
       "       [9.97976184e-01, 2.02381585e-03],\n",
       "       [6.19486494e-04, 9.99380514e-01],\n",
       "       [6.68549580e-03, 9.93314504e-01],\n",
       "       [2.37637675e-03, 9.97623623e-01],\n",
       "       [9.99321549e-01, 6.78451361e-04],\n",
       "       [6.29793336e-04, 9.99370207e-01],\n",
       "       [2.37637675e-03, 9.97623623e-01],\n",
       "       [1.31262436e-03, 9.98687376e-01],\n",
       "       [9.97538718e-01, 2.46128150e-03],\n",
       "       [9.95925779e-01, 4.07422083e-03],\n",
       "       [1.31262436e-03, 9.98687376e-01],\n",
       "       [9.97150356e-01, 2.84964442e-03],\n",
       "       [9.98192199e-01, 1.80780125e-03],\n",
       "       [7.85822870e-03, 9.92141771e-01],\n",
       "       [6.28140135e-04, 9.99371860e-01],\n",
       "       [9.96851351e-01, 3.14864913e-03],\n",
       "       [8.52649240e-04, 9.99147351e-01],\n",
       "       [2.46563279e-03, 9.97534367e-01],\n",
       "       [8.52649240e-04, 9.99147351e-01],\n",
       "       [9.98326084e-01, 1.67391634e-03],\n",
       "       [9.97653603e-01, 2.34639668e-03],\n",
       "       [9.72119752e-03, 9.90278802e-01],\n",
       "       [9.99613104e-01, 3.86896303e-04],\n",
       "       [6.13634507e-04, 9.99386365e-01],\n",
       "       [1.55777419e-03, 9.98442226e-01],\n",
       "       [8.71181013e-04, 9.99128819e-01],\n",
       "       [9.96587699e-01, 3.41230149e-03],\n",
       "       [9.85707078e-01, 1.42929216e-02]])"
      ]
     },
     "execution_count": 78,
     "metadata": {},
     "output_type": "execute_result"
    }
   ],
   "source": [
    "gt.predict_proba(x)"
   ]
  },
  {
   "cell_type": "code",
   "execution_count": 79,
   "id": "9d9ccf3c",
   "metadata": {},
   "outputs": [
    {
     "ename": "ValueError",
     "evalue": "Classification metrics can't handle a mix of continuous-multioutput and binary targets",
     "output_type": "error",
     "traceback": [
      "\u001b[31m---------------------------------------------------------------------------\u001b[39m",
      "\u001b[31mValueError\u001b[39m                                Traceback (most recent call last)",
      "\u001b[36mCell\u001b[39m\u001b[36m \u001b[39m\u001b[32mIn[79]\u001b[39m\u001b[32m, line 1\u001b[39m\n\u001b[32m----> \u001b[39m\u001b[32m1\u001b[39m \u001b[43mgt\u001b[49m\u001b[43m.\u001b[49m\u001b[43mscore\u001b[49m\u001b[43m(\u001b[49m\u001b[43mx\u001b[49m\u001b[43m,\u001b[49m\u001b[43mgt\u001b[49m\u001b[43m.\u001b[49m\u001b[43mpredict_proba\u001b[49m\u001b[43m(\u001b[49m\u001b[43mx\u001b[49m\u001b[43m)\u001b[49m\u001b[43m)\u001b[49m\n",
      "\u001b[36mFile \u001b[39m\u001b[32mc:\\Users\\Gargi\\AppData\\Local\\Programs\\Python\\Python311\\Lib\\site-packages\\sklearn\\base.py:706\u001b[39m, in \u001b[36mClassifierMixin.score\u001b[39m\u001b[34m(self, X, y, sample_weight)\u001b[39m\n\u001b[32m    681\u001b[39m \u001b[38;5;250m\u001b[39m\u001b[33;03m\"\"\"\u001b[39;00m\n\u001b[32m    682\u001b[39m \u001b[33;03mReturn the mean accuracy on the given test data and labels.\u001b[39;00m\n\u001b[32m    683\u001b[39m \n\u001b[32m   (...)\u001b[39m\u001b[32m    702\u001b[39m \u001b[33;03m    Mean accuracy of ``self.predict(X)`` w.r.t. `y`.\u001b[39;00m\n\u001b[32m    703\u001b[39m \u001b[33;03m\"\"\"\u001b[39;00m\n\u001b[32m    704\u001b[39m \u001b[38;5;28;01mfrom\u001b[39;00m\u001b[38;5;250m \u001b[39m\u001b[34;01m.\u001b[39;00m\u001b[34;01mmetrics\u001b[39;00m\u001b[38;5;250m \u001b[39m\u001b[38;5;28;01mimport\u001b[39;00m accuracy_score\n\u001b[32m--> \u001b[39m\u001b[32m706\u001b[39m \u001b[38;5;28;01mreturn\u001b[39;00m \u001b[43maccuracy_score\u001b[49m\u001b[43m(\u001b[49m\u001b[43my\u001b[49m\u001b[43m,\u001b[49m\u001b[43m \u001b[49m\u001b[38;5;28;43mself\u001b[39;49m\u001b[43m.\u001b[49m\u001b[43mpredict\u001b[49m\u001b[43m(\u001b[49m\u001b[43mX\u001b[49m\u001b[43m)\u001b[49m\u001b[43m,\u001b[49m\u001b[43m \u001b[49m\u001b[43msample_weight\u001b[49m\u001b[43m=\u001b[49m\u001b[43msample_weight\u001b[49m\u001b[43m)\u001b[49m\n",
      "\u001b[36mFile \u001b[39m\u001b[32mc:\\Users\\Gargi\\AppData\\Local\\Programs\\Python\\Python311\\Lib\\site-packages\\sklearn\\utils\\_param_validation.py:214\u001b[39m, in \u001b[36mvalidate_params.<locals>.decorator.<locals>.wrapper\u001b[39m\u001b[34m(*args, **kwargs)\u001b[39m\n\u001b[32m    208\u001b[39m \u001b[38;5;28;01mtry\u001b[39;00m:\n\u001b[32m    209\u001b[39m     \u001b[38;5;28;01mwith\u001b[39;00m config_context(\n\u001b[32m    210\u001b[39m         skip_parameter_validation=(\n\u001b[32m    211\u001b[39m             prefer_skip_nested_validation \u001b[38;5;129;01mor\u001b[39;00m global_skip_validation\n\u001b[32m    212\u001b[39m         )\n\u001b[32m    213\u001b[39m     ):\n\u001b[32m--> \u001b[39m\u001b[32m214\u001b[39m         \u001b[38;5;28;01mreturn\u001b[39;00m \u001b[43mfunc\u001b[49m\u001b[43m(\u001b[49m\u001b[43m*\u001b[49m\u001b[43margs\u001b[49m\u001b[43m,\u001b[49m\u001b[43m \u001b[49m\u001b[43m*\u001b[49m\u001b[43m*\u001b[49m\u001b[43mkwargs\u001b[49m\u001b[43m)\u001b[49m\n\u001b[32m    215\u001b[39m \u001b[38;5;28;01mexcept\u001b[39;00m InvalidParameterError \u001b[38;5;28;01mas\u001b[39;00m e:\n\u001b[32m    216\u001b[39m     \u001b[38;5;66;03m# When the function is just a wrapper around an estimator, we allow\u001b[39;00m\n\u001b[32m    217\u001b[39m     \u001b[38;5;66;03m# the function to delegate validation to the estimator, but we replace\u001b[39;00m\n\u001b[32m    218\u001b[39m     \u001b[38;5;66;03m# the name of the estimator by the name of the function in the error\u001b[39;00m\n\u001b[32m    219\u001b[39m     \u001b[38;5;66;03m# message to avoid confusion.\u001b[39;00m\n\u001b[32m    220\u001b[39m     msg = re.sub(\n\u001b[32m    221\u001b[39m         \u001b[33mr\u001b[39m\u001b[33m\"\u001b[39m\u001b[33mparameter of \u001b[39m\u001b[33m\\\u001b[39m\u001b[33mw+ must be\u001b[39m\u001b[33m\"\u001b[39m,\n\u001b[32m    222\u001b[39m         \u001b[33mf\u001b[39m\u001b[33m\"\u001b[39m\u001b[33mparameter of \u001b[39m\u001b[38;5;132;01m{\u001b[39;00mfunc.\u001b[34m__qualname__\u001b[39m\u001b[38;5;132;01m}\u001b[39;00m\u001b[33m must be\u001b[39m\u001b[33m\"\u001b[39m,\n\u001b[32m    223\u001b[39m         \u001b[38;5;28mstr\u001b[39m(e),\n\u001b[32m    224\u001b[39m     )\n",
      "\u001b[36mFile \u001b[39m\u001b[32mc:\\Users\\Gargi\\AppData\\Local\\Programs\\Python\\Python311\\Lib\\site-packages\\sklearn\\metrics\\_classification.py:220\u001b[39m, in \u001b[36maccuracy_score\u001b[39m\u001b[34m(y_true, y_pred, normalize, sample_weight)\u001b[39m\n\u001b[32m    154\u001b[39m \u001b[38;5;250m\u001b[39m\u001b[33;03m\"\"\"Accuracy classification score.\u001b[39;00m\n\u001b[32m    155\u001b[39m \n\u001b[32m    156\u001b[39m \u001b[33;03mIn multilabel classification, this function computes subset accuracy:\u001b[39;00m\n\u001b[32m   (...)\u001b[39m\u001b[32m    216\u001b[39m \u001b[33;03m0.5\u001b[39;00m\n\u001b[32m    217\u001b[39m \u001b[33;03m\"\"\"\u001b[39;00m\n\u001b[32m    219\u001b[39m \u001b[38;5;66;03m# Compute accuracy for each possible representation\u001b[39;00m\n\u001b[32m--> \u001b[39m\u001b[32m220\u001b[39m y_type, y_true, y_pred = \u001b[43m_check_targets\u001b[49m\u001b[43m(\u001b[49m\u001b[43my_true\u001b[49m\u001b[43m,\u001b[49m\u001b[43m \u001b[49m\u001b[43my_pred\u001b[49m\u001b[43m)\u001b[49m\n\u001b[32m    221\u001b[39m check_consistent_length(y_true, y_pred, sample_weight)\n\u001b[32m    222\u001b[39m \u001b[38;5;28;01mif\u001b[39;00m y_type.startswith(\u001b[33m\"\u001b[39m\u001b[33mmultilabel\u001b[39m\u001b[33m\"\u001b[39m):\n",
      "\u001b[36mFile \u001b[39m\u001b[32mc:\\Users\\Gargi\\AppData\\Local\\Programs\\Python\\Python311\\Lib\\site-packages\\sklearn\\metrics\\_classification.py:93\u001b[39m, in \u001b[36m_check_targets\u001b[39m\u001b[34m(y_true, y_pred)\u001b[39m\n\u001b[32m     90\u001b[39m     y_type = {\u001b[33m\"\u001b[39m\u001b[33mmulticlass\u001b[39m\u001b[33m\"\u001b[39m}\n\u001b[32m     92\u001b[39m \u001b[38;5;28;01mif\u001b[39;00m \u001b[38;5;28mlen\u001b[39m(y_type) > \u001b[32m1\u001b[39m:\n\u001b[32m---> \u001b[39m\u001b[32m93\u001b[39m     \u001b[38;5;28;01mraise\u001b[39;00m \u001b[38;5;167;01mValueError\u001b[39;00m(\n\u001b[32m     94\u001b[39m         \u001b[33m\"\u001b[39m\u001b[33mClassification metrics can\u001b[39m\u001b[33m'\u001b[39m\u001b[33mt handle a mix of \u001b[39m\u001b[38;5;132;01m{0}\u001b[39;00m\u001b[33m and \u001b[39m\u001b[38;5;132;01m{1}\u001b[39;00m\u001b[33m targets\u001b[39m\u001b[33m\"\u001b[39m.format(\n\u001b[32m     95\u001b[39m             type_true, type_pred\n\u001b[32m     96\u001b[39m         )\n\u001b[32m     97\u001b[39m     )\n\u001b[32m     99\u001b[39m \u001b[38;5;66;03m# We can't have more than one value on y_type => The set is no more needed\u001b[39;00m\n\u001b[32m    100\u001b[39m y_type = y_type.pop()\n",
      "\u001b[31mValueError\u001b[39m: Classification metrics can't handle a mix of continuous-multioutput and binary targets"
     ]
    }
   ],
   "source": [
    "gt.score(x,gt.predict_proba(x))"
   ]
  },
  {
   "cell_type": "code",
   "execution_count": null,
   "id": "be5f9641",
   "metadata": {},
   "outputs": [],
   "source": []
  }
 ],
 "metadata": {
  "kernelspec": {
   "display_name": "Python 3",
   "language": "python",
   "name": "python3"
  },
  "language_info": {
   "codemirror_mode": {
    "name": "ipython",
    "version": 3
   },
   "file_extension": ".py",
   "mimetype": "text/x-python",
   "name": "python",
   "nbconvert_exporter": "python",
   "pygments_lexer": "ipython3",
   "version": "3.11.9"
  }
 },
 "nbformat": 4,
 "nbformat_minor": 5
}
