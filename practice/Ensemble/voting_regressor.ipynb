{
 "cells": [
  {
   "cell_type": "code",
   "execution_count": 6,
   "id": "c34d2ded",
   "metadata": {},
   "outputs": [],
   "source": [
    "import numpy as np"
   ]
  },
  {
   "cell_type": "code",
   "execution_count": 7,
   "id": "6b6e78ae",
   "metadata": {},
   "outputs": [],
   "source": [
    "from sklearn.datasets import fetch_california_housing\n",
    "\n",
    "x, y = fetch_california_housing(return_X_y=True)"
   ]
  },
  {
   "cell_type": "code",
   "execution_count": null,
   "id": "a372a037",
   "metadata": {},
   "outputs": [
    {
     "data": {
      "text/plain": [
       "array([4.526, 3.585, 3.521, ..., 0.923, 0.847, 0.894])"
      ]
     },
     "execution_count": 9,
     "metadata": {},
     "output_type": "execute_result"
    }
   ],
   "source": [
    "y"
   ]
  },
  {
   "cell_type": "code",
   "execution_count": 33,
   "id": "61f3eefb",
   "metadata": {},
   "outputs": [],
   "source": [
    "x=x[:10000]"
   ]
  },
  {
   "cell_type": "code",
   "execution_count": 34,
   "id": "18eeedd8",
   "metadata": {},
   "outputs": [],
   "source": [
    "y=y[:10000]"
   ]
  },
  {
   "cell_type": "code",
   "execution_count": 35,
   "id": "53b04473",
   "metadata": {},
   "outputs": [],
   "source": [
    "from sklearn.linear_model import LinearRegression\n",
    "from sklearn.tree import DecisionTreeRegressor\n",
    "from sklearn.svm import SVR\n",
    "from sklearn.model_selection import cross_val_score"
   ]
  },
  {
   "cell_type": "code",
   "execution_count": 36,
   "id": "a52fc311",
   "metadata": {},
   "outputs": [],
   "source": [
    "\n",
    "lr = LinearRegression()\n",
    "dt = DecisionTreeRegressor()\n",
    "svr = SVR()"
   ]
  },
  {
   "cell_type": "code",
   "execution_count": 37,
   "id": "8d1d61ec",
   "metadata": {},
   "outputs": [],
   "source": [
    "estimators = [('lr',lr),('dt',dt),('svr',svr)]"
   ]
  },
  {
   "cell_type": "code",
   "execution_count": 38,
   "id": "1d17c840",
   "metadata": {},
   "outputs": [
    {
     "name": "stdout",
     "output_type": "stream",
     "text": [
      "lr -2.82\n",
      "dt -12.05\n",
      "svr -3.23\n"
     ]
    }
   ],
   "source": [
    "for estimator in estimators:\n",
    "  scores = cross_val_score(estimator[1],x,y,scoring='r2',cv=10)\n",
    "  print(estimator[0],np.round(np.mean(scores),2))"
   ]
  },
  {
   "cell_type": "code",
   "execution_count": 39,
   "id": "59c49167",
   "metadata": {},
   "outputs": [],
   "source": [
    "from sklearn.ensemble import VotingRegressor"
   ]
  },
  {
   "cell_type": "code",
   "execution_count": 40,
   "id": "1ba0b09b",
   "metadata": {},
   "outputs": [
    {
     "name": "stdout",
     "output_type": "stream",
     "text": [
      "Voting Regressor -2.88\n"
     ]
    }
   ],
   "source": [
    "vr=VotingRegressor(estimators=estimators)\n",
    "scores=cross_val_score(vr,x,y,scoring='r2',cv=10)\n",
    "print(\"Voting Regressor\",np.round(np.mean(scores),2))"
   ]
  },
  {
   "cell_type": "code",
   "execution_count": 41,
   "id": "3aa906e1",
   "metadata": {},
   "outputs": [
    {
     "name": "stdout",
     "output_type": "stream",
     "text": [
      "For i=1,j=1,k=1 -3.4\n",
      "For i=1,j=1,k=2 -2.23\n",
      "For i=1,j=1,k=3 -2.1\n",
      "For i=1,j=2,k=1 -4.47\n",
      "For i=1,j=2,k=2 -3.96\n",
      "For i=1,j=2,k=3 -3.3\n",
      "For i=1,j=3,k=1 -6.82\n",
      "For i=1,j=3,k=2 -5.16\n",
      "For i=1,j=3,k=3 -4.2\n",
      "For i=2,j=1,k=1 -2.49\n",
      "For i=2,j=1,k=2 -2.18\n",
      "For i=2,j=1,k=3 -1.96\n",
      "For i=2,j=2,k=1 -4.35\n",
      "For i=2,j=2,k=2 -2.88\n",
      "For i=2,j=2,k=3 -2.45\n",
      "For i=2,j=3,k=1 -5.57\n",
      "For i=2,j=3,k=2 -3.73\n",
      "For i=2,j=3,k=3 -3.21\n",
      "For i=3,j=1,k=1 -2.59\n",
      "For i=3,j=1,k=2 -1.86\n",
      "For i=3,j=1,k=3 -1.64\n",
      "For i=3,j=2,k=1 -3.76\n",
      "For i=3,j=2,k=2 -2.63\n",
      "For i=3,j=2,k=3 -2.3\n",
      "For i=3,j=3,k=1 -4.81\n",
      "For i=3,j=3,k=2 -3.35\n",
      "For i=3,j=3,k=3 -2.87\n"
     ]
    }
   ],
   "source": [
    "\n",
    "for i in range(1,4):\n",
    "  for j in range(1,4):\n",
    "    for k in range(1,4):\n",
    "      vr = VotingRegressor(estimators,weights=[i,j,k])\n",
    "      scores = cross_val_score(vr,x,y,scoring='r2',cv=10)\n",
    "      print(\"For i={},j={},k={}\".format(i,j,k),np.round(np.mean(scores),2))"
   ]
  },
  {
   "cell_type": "code",
   "execution_count": 42,
   "id": "8531cb4f",
   "metadata": {},
   "outputs": [],
   "source": [
    "\n",
    "# using the same algorithm\n",
    "\n",
    "dt1 = DecisionTreeRegressor(max_depth=1)\n",
    "dt2 = DecisionTreeRegressor(max_depth=3)\n",
    "dt3 = DecisionTreeRegressor(max_depth=5)\n",
    "dt4 = DecisionTreeRegressor(max_depth=7)\n",
    "dt5 = DecisionTreeRegressor(max_depth=None)"
   ]
  },
  {
   "cell_type": "code",
   "execution_count": 43,
   "id": "983a30f3",
   "metadata": {},
   "outputs": [],
   "source": [
    "estimators = [('dt1',dt1),('dt2',dt2),('dt3',dt3),('dt4',dt4),('dt5',dt5)]"
   ]
  },
  {
   "cell_type": "code",
   "execution_count": 44,
   "id": "d99bd485",
   "metadata": {},
   "outputs": [
    {
     "name": "stdout",
     "output_type": "stream",
     "text": [
      "dt1 -6.22\n",
      "dt2 -11.92\n",
      "dt3 -14.6\n",
      "dt4 -11.87\n",
      "dt5 -11.77\n"
     ]
    }
   ],
   "source": [
    "\n",
    "for estimator in estimators:\n",
    "  scores = cross_val_score(estimator[1],x,y,scoring='r2',cv=10)\n",
    "  print(estimator[0],np.round(np.mean(scores),2))"
   ]
  },
  {
   "cell_type": "code",
   "execution_count": 45,
   "id": "013c0c97",
   "metadata": {},
   "outputs": [
    {
     "name": "stdout",
     "output_type": "stream",
     "text": [
      "Voting Regressor -9.7\n"
     ]
    }
   ],
   "source": [
    "\n",
    "vr = VotingRegressor(estimators)\n",
    "scores = cross_val_score(vr,x,y,scoring='r2',cv=10)\n",
    "print(\"Voting Regressor\",np.round(np.mean(scores),2))"
   ]
  }
 ],
 "metadata": {
  "kernelspec": {
   "display_name": "Python 3",
   "language": "python",
   "name": "python3"
  },
  "language_info": {
   "codemirror_mode": {
    "name": "ipython",
    "version": 3
   },
   "file_extension": ".py",
   "mimetype": "text/x-python",
   "name": "python",
   "nbconvert_exporter": "python",
   "pygments_lexer": "ipython3",
   "version": "3.11.9"
  }
 },
 "nbformat": 4,
 "nbformat_minor": 5
}
