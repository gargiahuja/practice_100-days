{
 "cells": [
  {
   "cell_type": "code",
   "execution_count": 1,
   "id": "e0bb5fde",
   "metadata": {},
   "outputs": [],
   "source": [
    "import pandas as pd\n",
    "import numpy as np\n",
    "import matplotlib.pyplot as plt"
   ]
  },
  {
   "cell_type": "code",
   "execution_count": 2,
   "id": "f4745bbd",
   "metadata": {},
   "outputs": [],
   "source": [
    "df=pd.read_csv(r\"F:\\ML\\100 days ml\\practice\\data\\countries_metric - Sheet1.csv\")"
   ]
  },
  {
   "cell_type": "code",
   "execution_count": 3,
   "id": "21bd806e",
   "metadata": {},
   "outputs": [
    {
     "data": {
      "text/html": [
       "<div>\n",
       "<style scoped>\n",
       "    .dataframe tbody tr th:only-of-type {\n",
       "        vertical-align: middle;\n",
       "    }\n",
       "\n",
       "    .dataframe tbody tr th {\n",
       "        vertical-align: top;\n",
       "    }\n",
       "\n",
       "    .dataframe thead th {\n",
       "        text-align: right;\n",
       "    }\n",
       "</style>\n",
       "<table border=\"1\" class=\"dataframe\">\n",
       "  <thead>\n",
       "    <tr style=\"text-align: right;\">\n",
       "      <th></th>\n",
       "      <th>country_name</th>\n",
       "      <th>Population (in millions)</th>\n",
       "      <th>Nominal Gross Domestic Product (in USD)</th>\n",
       "      <th>Nominal GDP Per capita (in USD)</th>\n",
       "      <th>GDP Per capita PPP (in USD)</th>\n",
       "      <th>Human Development Index (HDI)</th>\n",
       "      <th>GINI</th>\n",
       "      <th>AREA (in Sq km)</th>\n",
       "    </tr>\n",
       "  </thead>\n",
       "  <tbody>\n",
       "    <tr>\n",
       "      <th>0</th>\n",
       "      <td>Afghanistan</td>\n",
       "      <td>41,454,761</td>\n",
       "      <td>$17.329 billion</td>\n",
       "      <td>411</td>\n",
       "      <td>2,174</td>\n",
       "      <td>0.496</td>\n",
       "      <td>35.2</td>\n",
       "      <td>652,867</td>\n",
       "    </tr>\n",
       "    <tr>\n",
       "      <th>1</th>\n",
       "      <td>Albania</td>\n",
       "      <td>2,402,113</td>\n",
       "      <td>$28.372 billion</td>\n",
       "      <td>10,526</td>\n",
       "      <td>23,404</td>\n",
       "      <td>0.810</td>\n",
       "      <td>33.0</td>\n",
       "      <td>28,748</td>\n",
       "    </tr>\n",
       "    <tr>\n",
       "      <th>2</th>\n",
       "      <td>Algeria</td>\n",
       "      <td>46,700,000</td>\n",
       "      <td>$266.78 billion</td>\n",
       "      <td>5,722</td>\n",
       "      <td>16,483</td>\n",
       "      <td>0.763</td>\n",
       "      <td>27.6</td>\n",
       "      <td>2,381,741</td>\n",
       "    </tr>\n",
       "    <tr>\n",
       "      <th>3</th>\n",
       "      <td>Andorra</td>\n",
       "      <td>87,486</td>\n",
       "      <td>$3.897 billion</td>\n",
       "      <td>44,900</td>\n",
       "      <td>69,146</td>\n",
       "      <td>0.913</td>\n",
       "      <td>40.0</td>\n",
       "      <td>467.63</td>\n",
       "    </tr>\n",
       "    <tr>\n",
       "      <th>4</th>\n",
       "      <td>Angola</td>\n",
       "      <td>39,040,039</td>\n",
       "      <td>$93.796 billion</td>\n",
       "      <td>2,432</td>\n",
       "      <td>7077</td>\n",
       "      <td>0.616</td>\n",
       "      <td>51.3</td>\n",
       "      <td>1,246,700</td>\n",
       "    </tr>\n",
       "  </tbody>\n",
       "</table>\n",
       "</div>"
      ],
      "text/plain": [
       "   country_name Population (in millions)  \\\n",
       "0   Afghanistan               41,454,761   \n",
       "1       Albania                2,402,113   \n",
       "2       Algeria               46,700,000   \n",
       "3       Andorra                   87,486   \n",
       "4        Angola               39,040,039   \n",
       "\n",
       "  Nominal Gross Domestic Product (in USD) Nominal GDP Per capita (in USD)  \\\n",
       "0                         $17.329 billion                             411   \n",
       "1                         $28.372 billion                          10,526   \n",
       "2                         $266.78 billion                           5,722   \n",
       "3                          $3.897 billion                          44,900   \n",
       "4                         $93.796 billion                           2,432   \n",
       "\n",
       "  GDP Per capita PPP (in USD)  Human Development Index (HDI)  GINI  \\\n",
       "0                       2,174                          0.496  35.2   \n",
       "1                      23,404                          0.810  33.0   \n",
       "2                      16,483                          0.763  27.6   \n",
       "3                      69,146                          0.913  40.0   \n",
       "4                        7077                          0.616  51.3   \n",
       "\n",
       "  AREA (in Sq km)  \n",
       "0         652,867  \n",
       "1          28,748  \n",
       "2       2,381,741  \n",
       "3          467.63  \n",
       "4       1,246,700  "
      ]
     },
     "execution_count": 3,
     "metadata": {},
     "output_type": "execute_result"
    }
   ],
   "source": [
    "df.head()"
   ]
  },
  {
   "cell_type": "code",
   "execution_count": 4,
   "id": "f43ae343",
   "metadata": {},
   "outputs": [
    {
     "data": {
      "text/plain": [
       "(194, 8)"
      ]
     },
     "execution_count": 4,
     "metadata": {},
     "output_type": "execute_result"
    }
   ],
   "source": [
    "df.shape"
   ]
  },
  {
   "cell_type": "code",
   "execution_count": 5,
   "id": "aa05da6b",
   "metadata": {},
   "outputs": [
    {
     "data": {
      "text/plain": [
       "country_name                                0.000000\n",
       "Population (in millions)                    0.000000\n",
       "Nominal Gross Domestic Product (in USD)     0.000000\n",
       "Nominal GDP Per capita (in USD)             0.000000\n",
       "GDP Per capita PPP (in USD)                 0.000000\n",
       "Human Development Index (HDI)               1.030928\n",
       "GINI                                       10.309278\n",
       "AREA (in Sq km)                             0.000000\n",
       "dtype: float64"
      ]
     },
     "execution_count": 5,
     "metadata": {},
     "output_type": "execute_result"
    }
   ],
   "source": [
    "df.isnull().mean()*100"
   ]
  },
  {
   "cell_type": "code",
   "execution_count": 6,
   "id": "8ee46b18",
   "metadata": {},
   "outputs": [],
   "source": [
    "df.dropna(inplace=True,ignore_index=True)"
   ]
  },
  {
   "cell_type": "code",
   "execution_count": 7,
   "id": "a9ebdbf3",
   "metadata": {},
   "outputs": [
    {
     "name": "stdout",
     "output_type": "stream",
     "text": [
      "<class 'pandas.core.frame.DataFrame'>\n",
      "RangeIndex: 174 entries, 0 to 173\n",
      "Data columns (total 8 columns):\n",
      " #   Column                                   Non-Null Count  Dtype  \n",
      "---  ------                                   --------------  -----  \n",
      " 0   country_name                             174 non-null    object \n",
      " 1   Population (in millions)                 174 non-null    object \n",
      " 2   Nominal Gross Domestic Product (in USD)  174 non-null    object \n",
      " 3   Nominal GDP Per capita (in USD)          174 non-null    object \n",
      " 4   GDP Per capita PPP (in USD)              174 non-null    object \n",
      " 5   Human Development Index (HDI)            174 non-null    float64\n",
      " 6   GINI                                     174 non-null    float64\n",
      " 7   AREA (in Sq km)                          174 non-null    object \n",
      "dtypes: float64(2), object(6)\n",
      "memory usage: 11.0+ KB\n"
     ]
    }
   ],
   "source": [
    "df.info()"
   ]
  },
  {
   "cell_type": "code",
   "execution_count": 17,
   "metadata": {},
   "outputs": [
    {
     "data": {
      "text/html": [
       "<div>\n",
       "<style scoped>\n",
       "    .dataframe tbody tr th:only-of-type {\n",
       "        vertical-align: middle;\n",
       "    }\n",
       "\n",
       "    .dataframe tbody tr th {\n",
       "        vertical-align: top;\n",
       "    }\n",
       "\n",
       "    .dataframe thead th {\n",
       "        text-align: right;\n",
       "    }\n",
       "</style>\n",
       "<table border=\"1\" class=\"dataframe\">\n",
       "  <thead>\n",
       "    <tr style=\"text-align: right;\">\n",
       "      <th></th>\n",
       "      <th>country_name</th>\n",
       "      <th>Population (in millions)</th>\n",
       "      <th>Nominal GDP Per capita (in USD)</th>\n",
       "      <th>GDP Per capita PPP (in USD)</th>\n",
       "      <th>Human Development Index (HDI)</th>\n",
       "      <th>GINI</th>\n",
       "      <th>AREA (in Sq km)</th>\n",
       "    </tr>\n",
       "  </thead>\n",
       "  <tbody>\n",
       "    <tr>\n",
       "      <th>0</th>\n",
       "      <td>Afghanistan</td>\n",
       "      <td>-0.020171</td>\n",
       "      <td>-0.693289</td>\n",
       "      <td>-0.866429</td>\n",
       "      <td>0.496</td>\n",
       "      <td>35.2</td>\n",
       "      <td>-0.036564</td>\n",
       "    </tr>\n",
       "    <tr>\n",
       "      <th>1</th>\n",
       "      <td>Albania</td>\n",
       "      <td>-0.270626</td>\n",
       "      <td>-0.281836</td>\n",
       "      <td>-0.165481</td>\n",
       "      <td>0.810</td>\n",
       "      <td>33.0</td>\n",
       "      <td>-0.365026</td>\n",
       "    </tr>\n",
       "    <tr>\n",
       "      <th>2</th>\n",
       "      <td>Algeria</td>\n",
       "      <td>0.013468</td>\n",
       "      <td>-0.477251</td>\n",
       "      <td>-0.393990</td>\n",
       "      <td>0.763</td>\n",
       "      <td>27.6</td>\n",
       "      <td>0.873312</td>\n",
       "    </tr>\n",
       "    <tr>\n",
       "      <th>3</th>\n",
       "      <td>Andorra</td>\n",
       "      <td>-0.285471</td>\n",
       "      <td>1.116416</td>\n",
       "      <td>1.344777</td>\n",
       "      <td>0.913</td>\n",
       "      <td>40.0</td>\n",
       "      <td>-0.379910</td>\n",
       "    </tr>\n",
       "    <tr>\n",
       "      <th>4</th>\n",
       "      <td>Angola</td>\n",
       "      <td>-0.035657</td>\n",
       "      <td>-0.611080</td>\n",
       "      <td>-0.704547</td>\n",
       "      <td>0.616</td>\n",
       "      <td>51.3</td>\n",
       "      <td>0.275960</td>\n",
       "    </tr>\n",
       "  </tbody>\n",
       "</table>\n",
       "</div>"
      ],
      "text/plain": [
       "   country_name  Population (in millions)  Nominal GDP Per capita (in USD)  \\\n",
       "0   Afghanistan                 -0.020171                        -0.693289   \n",
       "1       Albania                 -0.270626                        -0.281836   \n",
       "2       Algeria                  0.013468                        -0.477251   \n",
       "3       Andorra                 -0.285471                         1.116416   \n",
       "4        Angola                 -0.035657                        -0.611080   \n",
       "\n",
       "   GDP Per capita PPP (in USD)  Human Development Index (HDI)  GINI  \\\n",
       "0                    -0.866429                          0.496  35.2   \n",
       "1                    -0.165481                          0.810  33.0   \n",
       "2                    -0.393990                          0.763  27.6   \n",
       "3                     1.344777                          0.913  40.0   \n",
       "4                    -0.704547                          0.616  51.3   \n",
       "\n",
       "   AREA (in Sq km)  \n",
       "0        -0.036564  \n",
       "1        -0.365026  \n",
       "2         0.873312  \n",
       "3        -0.379910  \n",
       "4         0.275960  "
      ]
     },
     "execution_count": 17,
     "metadata": {},
     "output_type": "execute_result"
    }
   ],
   "source": [
    "df.head()"
   ]
  },
  {
   "cell_type": "code",
   "execution_count": 9,
   "id": "db70c3f6",
   "metadata": {},
   "outputs": [],
   "source": [
    "df['Population (in millions)']=df['Population (in millions)'].astype(str)\n",
    "df['Population (in millions)']=df['Population (in millions)'].str.replace(',','')\n",
    "df['Population (in millions)']=pd.to_numeric(df['Population (in millions)'])"
   ]
  },
  {
   "cell_type": "code",
   "execution_count": 10,
   "id": "0749cea3",
   "metadata": {},
   "outputs": [],
   "source": [
    "df['Nominal GDP Per capita (in USD)']=df['Nominal GDP Per capita (in USD)'].astype(str)\n",
    "df['Nominal GDP Per capita (in USD)']=df['Nominal GDP Per capita (in USD)'].str.replace(',','')\n",
    "df['Nominal GDP Per capita (in USD)']=pd.to_numeric(df['Nominal GDP Per capita (in USD)'])\n",
    "\n",
    "df['GDP Per capita PPP (in USD)']=df['GDP Per capita PPP (in USD)'].astype(str)\n",
    "df['GDP Per capita PPP (in USD)']=df['GDP Per capita PPP (in USD)'].str.replace(',','')\n",
    "df['GDP Per capita PPP (in USD)']=pd.to_numeric(df['GDP Per capita PPP (in USD)'])"
   ]
  },
  {
   "cell_type": "code",
   "execution_count": 11,
   "id": "f012e29b",
   "metadata": {},
   "outputs": [],
   "source": [
    "df['AREA (in Sq km)']=df['AREA (in Sq km)'].astype(str)\n",
    "df['AREA (in Sq km)']=df['AREA (in Sq km)'].str.replace(',','')\n",
    "df['AREA (in Sq km)']=pd.to_numeric(df['AREA (in Sq km)'])\n"
   ]
  },
  {
   "cell_type": "code",
   "execution_count": 12,
   "id": "6ef50583",
   "metadata": {},
   "outputs": [],
   "source": [
    "df.drop(columns=['Nominal Gross Domestic Product (in USD)'],axis=1,inplace=True)"
   ]
  },
  {
   "cell_type": "code",
   "execution_count": 13,
   "id": "f3b66bc6",
   "metadata": {},
   "outputs": [
    {
     "data": {
      "text/plain": [
       "Index(['country_name', 'Population (in millions)',\n",
       "       'Nominal GDP Per capita (in USD)', 'GDP Per capita PPP (in USD)',\n",
       "       'Human Development Index (HDI)', 'GINI', 'AREA (in Sq km)'],\n",
       "      dtype='object')"
      ]
     },
     "execution_count": 13,
     "metadata": {},
     "output_type": "execute_result"
    }
   ],
   "source": [
    "df.columns"
   ]
  },
  {
   "cell_type": "code",
   "execution_count": 14,
   "id": "469853cf",
   "metadata": {},
   "outputs": [],
   "source": [
    "columns=[ 'Population (in millions)',\n",
    "       'Nominal GDP Per capita (in USD)', 'GDP Per capita PPP (in USD)','AREA (in Sq km)']"
   ]
  },
  {
   "cell_type": "code",
   "execution_count": 15,
   "id": "49977937",
   "metadata": {},
   "outputs": [],
   "source": [
    "from sklearn.preprocessing import StandardScaler\n",
    "ss=StandardScaler()\n",
    "df[columns]=ss.fit_transform(df[columns])"
   ]
  },
  {
   "cell_type": "code",
   "execution_count": 18,
   "id": "c97a3560",
   "metadata": {},
   "outputs": [],
   "source": [
    "data=df.iloc[:,1:8]"
   ]
  },
  {
   "cell_type": "code",
   "execution_count": 19,
   "id": "0957a6dc",
   "metadata": {},
   "outputs": [
    {
     "data": {
      "image/png": "[encoded data removed]",
      "text/plain": [
       "<Figure size 1000x700 with 1 Axes>"
      ]
     },
     "metadata": {},
     "output_type": "display_data"
    }
   ],
   "source": [
    "import scipy.cluster.hierarchy as sch\n",
    "plt.figure(figsize=(10,7))\n",
    "plt.title(\"Customer Dendograms\")\n",
    "dend=sch.dendrogram(sch.linkage(data,method='ward'))"
   ]
  },
  {
   "cell_type": "code",
   "execution_count": 62,
   "id": "ac58ff0c",
   "metadata": {},
   "outputs": [],
   "source": [
    "from sklearn.cluster import AgglomerativeClustering\n",
    "ag=AgglomerativeClustering(n_clusters=2,metric='euclidean',linkage='ward')\n",
    "labels=ag.fit_predict(data)"
   ]
  },
  {
   "cell_type": "code",
   "execution_count": 63,
   "id": "a1f54ec3",
   "metadata": {},
   "outputs": [
    {
     "data": {
      "text/plain": [
       "array([1, 1, 1, 0, 0, 1, 0, 1, 1, 1, 1, 1, 1, 1, 0, 1, 1, 0, 1, 0, 0, 1,\n",
       "       1, 1, 0, 1, 0, 1, 0, 1, 0, 1, 0, 0, 0, 0, 1, 1, 1, 1, 1, 0, 1, 0,\n",
       "       1, 0, 1, 1, 1, 0, 1, 1, 1, 1, 1, 1, 1, 0, 1, 0, 1, 1, 0, 0, 0, 1,\n",
       "       1, 1, 1, 1, 1, 1, 1, 1, 0, 1, 1, 1, 1, 1, 1, 1, 1, 1, 0, 1, 1, 1,\n",
       "       0, 0, 0, 1, 1, 1, 1, 1, 0, 0, 1, 1, 1, 0, 0, 1, 0, 1, 1, 1, 0, 1,\n",
       "       1, 1, 1, 1, 1, 1, 1, 0, 0, 0, 0, 0, 1, 1, 0, 1, 1, 0, 0, 1, 0, 0,\n",
       "       0, 1, 1, 1, 0, 1, 1, 1, 1, 0, 1, 0, 1, 0, 1, 1, 1, 1, 1, 0, 1, 1,\n",
       "       0, 1, 1, 1, 0, 0, 1, 0, 1, 1, 1, 0, 0, 1, 1, 0, 1, 1, 0, 0],\n",
       "      dtype=int64)"
      ]
     },
     "execution_count": 63,
     "metadata": {},
     "output_type": "execute_result"
    }
   ],
   "source": [
    "labels"
   ]
  },
  {
   "cell_type": "code",
   "execution_count": 64,
   "id": "071fd567",
   "metadata": {},
   "outputs": [
    {
     "data": {
      "text/plain": [
       "array([1, 1, 1, 0, 0, 1, 0, 1, 1, 1, 1, 1, 1, 1, 0, 1, 1, 0, 1, 0, 0, 1,\n",
       "       1, 1, 0, 1, 0, 1, 0, 1, 0, 1, 0, 0, 0, 0, 1, 1, 1, 1, 1, 0, 1, 0,\n",
       "       1, 0, 1, 1, 1, 0, 1, 1, 1, 1, 1, 1, 1, 0, 1, 0, 1, 1, 0, 0, 0, 1,\n",
       "       1, 1, 1, 1, 1, 1, 1, 1, 0, 1, 1, 1, 1, 1, 1, 1, 1, 1, 0, 1, 1, 1,\n",
       "       0, 0, 0, 1, 1, 1, 1, 1, 0, 0, 1, 1, 1, 0, 0, 1, 0, 1, 1, 1, 0, 1,\n",
       "       1, 1, 1, 1, 1, 1, 1, 0, 0, 0, 0, 0, 1, 1, 0, 1, 1, 0, 0, 1, 0, 0,\n",
       "       0, 1, 1, 1, 0, 1, 1, 1, 1, 0, 1, 0, 1, 0, 1, 1, 1, 1, 1, 0, 1, 1,\n",
       "       0, 1, 1, 1, 0, 0, 1, 0, 1, 1, 1, 0, 0, 1, 1, 0, 1, 1, 0, 0],\n",
       "      dtype=int64)"
      ]
     },
     "execution_count": 64,
     "metadata": {},
     "output_type": "execute_result"
    }
   ],
   "source": [
    "ag.labels_"
   ]
  },
  {
   "cell_type": "code",
   "execution_count": 65,
   "id": "ee840b15",
   "metadata": {},
   "outputs": [
    {
     "data": {
      "image/png": "[encoded data removed]",
      "text/plain": [
       "<Figure size 640x480 with 1 Axes>"
      ]
     },
     "metadata": {},
     "output_type": "display_data"
    }
   ],
   "source": [
    "import matplotlib.pyplot as plt\n",
    "\n",
    "plt.scatter(df['country_name'], df['GINI'],c=labels)\n",
    "plt.xlabel('Population (in millions)')\n",
    "plt.ylabel('Area (in sq km)')\n",
    "plt.title('Scatter Plot')\n",
    "plt.show()\n"
   ]
  },
  {
   "cell_type": "code",
   "execution_count": 47,
   "id": "382cc290",
   "metadata": {},
   "outputs": [
    {
     "data": {
      "text/html": [
       "<div>\n",
       "<style scoped>\n",
       "    .dataframe tbody tr th:only-of-type {\n",
       "        vertical-align: middle;\n",
       "    }\n",
       "\n",
       "    .dataframe tbody tr th {\n",
       "        vertical-align: top;\n",
       "    }\n",
       "\n",
       "    .dataframe thead th {\n",
       "        text-align: right;\n",
       "    }\n",
       "</style>\n",
       "<table border=\"1\" class=\"dataframe\">\n",
       "  <thead>\n",
       "    <tr style=\"text-align: right;\">\n",
       "      <th></th>\n",
       "      <th>country_name</th>\n",
       "      <th>Population (in millions)</th>\n",
       "      <th>Nominal GDP Per capita (in USD)</th>\n",
       "      <th>GDP Per capita PPP (in USD)</th>\n",
       "      <th>Human Development Index (HDI)</th>\n",
       "      <th>GINI</th>\n",
       "      <th>AREA (in Sq km)</th>\n",
       "    </tr>\n",
       "  </thead>\n",
       "  <tbody>\n",
       "    <tr>\n",
       "      <th>0</th>\n",
       "      <td>Afghanistan</td>\n",
       "      <td>-0.020171</td>\n",
       "      <td>-0.693289</td>\n",
       "      <td>-0.866429</td>\n",
       "      <td>0.496</td>\n",
       "      <td>35.2</td>\n",
       "      <td>-0.036564</td>\n",
       "    </tr>\n",
       "    <tr>\n",
       "      <th>1</th>\n",
       "      <td>Albania</td>\n",
       "      <td>-0.270626</td>\n",
       "      <td>-0.281836</td>\n",
       "      <td>-0.165481</td>\n",
       "      <td>0.810</td>\n",
       "      <td>33.0</td>\n",
       "      <td>-0.365026</td>\n",
       "    </tr>\n",
       "    <tr>\n",
       "      <th>2</th>\n",
       "      <td>Algeria</td>\n",
       "      <td>0.013468</td>\n",
       "      <td>-0.477251</td>\n",
       "      <td>-0.393990</td>\n",
       "      <td>0.763</td>\n",
       "      <td>27.6</td>\n",
       "      <td>0.873312</td>\n",
       "    </tr>\n",
       "    <tr>\n",
       "      <th>3</th>\n",
       "      <td>Andorra</td>\n",
       "      <td>-0.285471</td>\n",
       "      <td>1.116416</td>\n",
       "      <td>1.344777</td>\n",
       "      <td>0.913</td>\n",
       "      <td>40.0</td>\n",
       "      <td>-0.379910</td>\n",
       "    </tr>\n",
       "    <tr>\n",
       "      <th>4</th>\n",
       "      <td>Angola</td>\n",
       "      <td>-0.035657</td>\n",
       "      <td>-0.611080</td>\n",
       "      <td>-0.704547</td>\n",
       "      <td>0.616</td>\n",
       "      <td>51.3</td>\n",
       "      <td>0.275960</td>\n",
       "    </tr>\n",
       "  </tbody>\n",
       "</table>\n",
       "</div>"
      ],
      "text/plain": [
       "   country_name  Population (in millions)  Nominal GDP Per capita (in USD)  \\\n",
       "0   Afghanistan                 -0.020171                        -0.693289   \n",
       "1       Albania                 -0.270626                        -0.281836   \n",
       "2       Algeria                  0.013468                        -0.477251   \n",
       "3       Andorra                 -0.285471                         1.116416   \n",
       "4        Angola                 -0.035657                        -0.611080   \n",
       "\n",
       "   GDP Per capita PPP (in USD)  Human Development Index (HDI)  GINI  \\\n",
       "0                    -0.866429                          0.496  35.2   \n",
       "1                    -0.165481                          0.810  33.0   \n",
       "2                    -0.393990                          0.763  27.6   \n",
       "3                     1.344777                          0.913  40.0   \n",
       "4                    -0.704547                          0.616  51.3   \n",
       "\n",
       "   AREA (in Sq km)  \n",
       "0        -0.036564  \n",
       "1        -0.365026  \n",
       "2         0.873312  \n",
       "3        -0.379910  \n",
       "4         0.275960  "
      ]
     },
     "execution_count": 47,
     "metadata": {},
     "output_type": "execute_result"
    }
   ],
   "source": [
    "df.head()"
   ]
  },
  {
   "cell_type": "code",
   "execution_count": null,
   "id": "80e96f92",
   "metadata": {},
   "outputs": [],
   "source": []
  }
 ],
 "metadata": {
  "kernelspec": {
   "display_name": "Python 3",
   "language": "python",
   "name": "python3"
  },
  "language_info": {
   "codemirror_mode": {
    "name": "ipython",
    "version": 3
   },
   "file_extension": ".py",
   "mimetype": "text/x-python",
   "name": "python",
   "nbconvert_exporter": "python",
   "pygments_lexer": "ipython3",
   "version": "3.11.9"
  }
 },
 "nbformat": 4,
 "nbformat_minor": 5
}
