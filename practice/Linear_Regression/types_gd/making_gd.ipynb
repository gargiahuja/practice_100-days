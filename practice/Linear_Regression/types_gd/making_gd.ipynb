{
 "cells": [
  {
   "cell_type": "code",
   "execution_count": 2,
   "id": "eb37ac2c",
   "metadata": {},
   "outputs": [],
   "source": [
    "from sklearn.model_selection import train_test_split\n",
    "import pandas as pd \n",
    "import numpy as np\n",
    "import matplotlib.pyplot as plt\n",
    "from sklearn.linear_model import LinearRegression\n",
    "from sklearn.datasets import make_regression\n",
    "from sklearn.model_selection import cross_val_score"
   ]
  },
  {
   "cell_type": "code",
   "execution_count": 7,
   "id": "ac142ca6",
   "metadata": {},
   "outputs": [],
   "source": [
    "x,y = make_regression(n_samples=100, n_features=1, n_informative=1, n_targets=1,noise=20,random_state=13)"
   ]
  },
  {
   "cell_type": "code",
   "execution_count": 10,
   "id": "c70e90bc",
   "metadata": {},
   "outputs": [],
   "source": [
    "x_train,x_test,y_train,y_test=train_test_split(x,y,random_state=42,test_size=0.2)"
   ]
  },
  {
   "cell_type": "code",
   "execution_count": null,
   "id": "6b77c106",
   "metadata": {},
   "outputs": [],
   "source": []
  },
  {
   "cell_type": "code",
   "execution_count": 11,
   "id": "0ccf5dfe",
   "metadata": {},
   "outputs": [],
   "source": [
    "lr=LinearRegression()\n",
    "lr.fit(x_train,y_train)\n",
    "y_pred=lr.predict(x_test)"
   ]
  },
  {
   "cell_type": "code",
   "execution_count": 20,
   "id": "61d26d4a",
   "metadata": {},
   "outputs": [
    {
     "data": {
      "text/plain": [
       "array([28.16404017])"
      ]
     },
     "execution_count": 20,
     "metadata": {},
     "output_type": "execute_result"
    }
   ],
   "source": [
    "lr.coef_"
   ]
  },
  {
   "cell_type": "code",
   "execution_count": 21,
   "id": "fffdb0d0",
   "metadata": {},
   "outputs": [
    {
     "data": {
      "text/plain": [
       "-2.7130725669241036"
      ]
     },
     "execution_count": 21,
     "metadata": {},
     "output_type": "execute_result"
    }
   ],
   "source": [
    "lr.intercept_"
   ]
  },
  {
   "cell_type": "code",
   "execution_count": 12,
   "id": "5af294ec",
   "metadata": {},
   "outputs": [
    {
     "data": {
      "text/plain": [
       "array([ 20.68858776, -24.53062886,  13.1389669 ,  23.26386508,\n",
       "        30.82199856,  13.12248871, -28.85874316,  11.77250597,\n",
       "        54.0436877 , -22.77687179, -48.20103812,  17.62038031,\n",
       "        18.516034  , -38.24499309,   7.10915317,   3.98596515,\n",
       "        12.2797131 , -30.43101636,   3.13941648,  18.85807699])"
      ]
     },
     "execution_count": 12,
     "metadata": {},
     "output_type": "execute_result"
    }
   ],
   "source": [
    "y_pred"
   ]
  },
  {
   "cell_type": "code",
   "execution_count": 26,
   "id": "5b2c330a",
   "metadata": {},
   "outputs": [],
   "source": [
    "class GD:\n",
    "    def __init__(self,learning_rate=0.1,epoches=100):\n",
    "        self.lrr=learning_rate\n",
    "        self.epoches=epoches\n",
    "        self.m=100\n",
    "        self.b=-120\n",
    "    \n",
    "    def fit(self,x,y):\n",
    "        for i in range(self.epoches):\n",
    "            loss_slpoe_m=-2*np.sum((y-(self.m*x.ravel()+self.b))*x.ravel())\n",
    "            loss_slpoe_b=-2*np.sum(y-(self.m*x.ravel()+self.b))\n",
    "\n",
    "            self.m=self.m-(self.lrr*loss_slpoe_m)\n",
    "            self.b=self.b-(self.lrr*loss_slpoe_b)\n",
    "        \n",
    "        print(self.m,self.b)\n",
    "    \n",
    "    def predict(self,x_test):\n",
    "        return ((self.m*x_test)+self.b)"
   ]
  },
  {
   "cell_type": "code",
   "execution_count": 29,
   "id": "888dfef7",
   "metadata": {},
   "outputs": [
    {
     "name": "stdout",
     "output_type": "stream",
     "text": [
      "28.211574945482276 -2.7382439825069875\n"
     ]
    }
   ],
   "source": [
    "gd=GD(0.001,50)\n",
    "gd.fit(x_train,y_train)"
   ]
  },
  {
   "cell_type": "code",
   "execution_count": 30,
   "id": "60fb04f3",
   "metadata": {},
   "outputs": [
    {
     "data": {
      "text/plain": [
       "0.6184348252119185"
      ]
     },
     "execution_count": 30,
     "metadata": {},
     "output_type": "execute_result"
    }
   ],
   "source": [
    "y_pred = gd.predict(x_test)\n",
    "from sklearn.metrics import r2_score\n",
    "r2_score(y_test,y_pred)"
   ]
  },
  {
   "cell_type": "code",
   "execution_count": null,
   "id": "f1379f36",
   "metadata": {},
   "outputs": [],
   "source": []
  }
 ],
 "metadata": {
  "kernelspec": {
   "display_name": "Python 3",
   "language": "python",
   "name": "python3"
  },
  "language_info": {
   "codemirror_mode": {
    "name": "ipython",
    "version": 3
   },
   "file_extension": ".py",
   "mimetype": "text/x-python",
   "name": "python",
   "nbconvert_exporter": "python",
   "pygments_lexer": "ipython3",
   "version": "3.11.9"
  }
 },
 "nbformat": 4,
 "nbformat_minor": 5
}
