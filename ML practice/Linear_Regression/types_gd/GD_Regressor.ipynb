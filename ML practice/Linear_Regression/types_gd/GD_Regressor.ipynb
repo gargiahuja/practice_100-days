{
 "cells": [
  {
   "cell_type": "code",
   "execution_count": 34,
   "id": "1ea9887c",
   "metadata": {},
   "outputs": [],
   "source": [
    "from sklearn.model_selection import train_test_split \n",
    "import numpy as np\n",
    "import pandas as pd\n",
    "from sklearn.linear_model import LinearRegression\n",
    "from sklearn.metrics import r2_score\n",
    "from sklearn.datasets import load_diabetes"
   ]
  },
  {
   "cell_type": "code",
   "execution_count": 35,
   "id": "13e52b02",
   "metadata": {},
   "outputs": [],
   "source": [
    "x,y = load_diabetes(return_X_y=True)"
   ]
  },
  {
   "cell_type": "code",
   "execution_count": 36,
   "id": "1dc9effc",
   "metadata": {},
   "outputs": [],
   "source": [
    "x_train,x_test,y_train,y_tset=train_test_split(x,y,random_state=2,test_size=0.2)"
   ]
  },
  {
   "cell_type": "code",
   "execution_count": 37,
   "id": "5054b683",
   "metadata": {},
   "outputs": [],
   "source": [
    "lr=LinearRegression()"
   ]
  },
  {
   "cell_type": "code",
   "execution_count": 38,
   "id": "c12c0b4d",
   "metadata": {},
   "outputs": [],
   "source": [
    "lr.fit(x_train,y_train)\n",
    "y_pred=lr.predict(x_test)"
   ]
  },
  {
   "cell_type": "code",
   "execution_count": 39,
   "id": "06e6ea59",
   "metadata": {},
   "outputs": [
    {
     "data": {
      "text/plain": [
       "151.88331005254167"
      ]
     },
     "execution_count": 39,
     "metadata": {},
     "output_type": "execute_result"
    }
   ],
   "source": [
    "lr.intercept_"
   ]
  },
  {
   "cell_type": "code",
   "execution_count": 40,
   "id": "c425b7a3",
   "metadata": {},
   "outputs": [
    {
     "data": {
      "text/plain": [
       "array([  -9.15865318, -205.45432163,  516.69374454,  340.61999905,\n",
       "       -895.5520019 ,  561.22067904,  153.89310954,  126.73139688,\n",
       "        861.12700152,   52.42112238])"
      ]
     },
     "execution_count": 40,
     "metadata": {},
     "output_type": "execute_result"
    }
   ],
   "source": [
    "lr.coef_"
   ]
  },
  {
   "cell_type": "code",
   "execution_count": 41,
   "id": "60e96897",
   "metadata": {},
   "outputs": [
    {
     "data": {
      "text/plain": [
       "0.4399338661568968"
      ]
     },
     "execution_count": 41,
     "metadata": {},
     "output_type": "execute_result"
    }
   ],
   "source": [
    "r2_score(y_tset,y_pred)"
   ]
  },
  {
   "cell_type": "code",
   "execution_count": 42,
   "id": "41eb69b5",
   "metadata": {},
   "outputs": [
    {
     "data": {
      "text/plain": [
       "(353, 10)"
      ]
     },
     "execution_count": 42,
     "metadata": {},
     "output_type": "execute_result"
    }
   ],
   "source": [
    "x_train.shape"
   ]
  },
  {
   "cell_type": "code",
   "execution_count": 51,
   "id": "effdf423",
   "metadata": {},
   "outputs": [],
   "source": [
    "class GDRegressor:\n",
    "    def __init__(self,learning_rate=0.01,epoches=100):\n",
    "        self.coef_=None\n",
    "        self.intercept_=None\n",
    "        self.lr=learning_rate\n",
    "        self.epoches=epoches\n",
    "    \n",
    "    def fit(self,x,y):\n",
    "        self.coef_=np.ones(x.shape[1])\n",
    "        self.intercept_=0\n",
    "\n",
    "        for i in range(self.epoches):\n",
    "            y_hat=np.dot(x,self.coef_)+self.intercept_\n",
    "            slope_coef=-2*np.dot((y-y_hat),x)/x.shape[0]\n",
    "            slope_intercept=-2*np.mean(y-y_hat)\n",
    "\n",
    "            self.coef_=self.coef_-(self.lr*slope_coef)\n",
    "            self.intercept_=self.intercept_-(self.lr*slope_intercept)\n",
    "\n",
    "        print(self.intercept_,self.coef_)\n",
    "\n",
    "    def predict(self,x_test):\n",
    "        return np.dot(x_test,self.coef_)+self.intercept_"
   ]
  },
  {
   "cell_type": "code",
   "execution_count": 52,
   "id": "6a70513e",
   "metadata": {},
   "outputs": [],
   "source": [
    "gd=GDRegressor(epoches=1000,learning_rate=0.5)\n"
   ]
  },
  {
   "cell_type": "code",
   "execution_count": 53,
   "id": "10da4fd0",
   "metadata": {},
   "outputs": [
    {
     "name": "stdout",
     "output_type": "stream",
     "text": [
      "152.01351687661833 [  14.38990585 -173.7235727   491.54898524  323.91524824  -39.32648042\n",
      " -116.01061213 -194.04077415  103.38135565  451.63448787   97.57218278]\n"
     ]
    }
   ],
   "source": [
    "gd.fit(x_train,y_train)"
   ]
  },
  {
   "cell_type": "code",
   "execution_count": 54,
   "id": "02d0f9d8",
   "metadata": {},
   "outputs": [],
   "source": [
    "y_pred=gd.predict(x_test)"
   ]
  },
  {
   "cell_type": "code",
   "execution_count": 55,
   "id": "b53d98e6",
   "metadata": {},
   "outputs": [
    {
     "data": {
      "text/plain": [
       "array([152.26392304, 198.96222354, 127.66111541, 104.59596478,\n",
       "       265.23062371, 252.09467525, 112.76592254, 115.72549839,\n",
       "        96.37765691, 187.64845451, 144.9482918 , 172.110596  ,\n",
       "       178.81497695, 136.51444368, 292.15564227,  87.25795061,\n",
       "       202.18473262, 149.11155912, 132.30895031, 128.70828962,\n",
       "       148.38757935, 171.81318343, 150.93593445, 174.47559507,\n",
       "       127.76388814, 221.82234243, 199.96855698, 101.54518353,\n",
       "        54.85644772, 237.61948938, 244.2801351 , 112.91877003,\n",
       "        68.12192242,  96.00468527, 204.32975531, 163.99882781,\n",
       "       160.95172334, 191.90398957, 113.33794145, 238.46002509,\n",
       "       141.40211434, 120.45598718, 188.12639096, 186.46474321,\n",
       "       174.98259299, 143.24561624, 168.80798895, 299.18508813,\n",
       "       105.40854525, 169.51466009, 254.37509674, 142.60026818,\n",
       "       151.7158263 , 122.70403085, 191.52875115,  94.27792144,\n",
       "       129.03875584,  75.96073902, 157.91752518, 156.36603694,\n",
       "       163.20324594, 160.93274887, 102.3002858 , 227.7604113 ,\n",
       "       146.38764326, 130.09088849, 161.03126295, 192.83334912,\n",
       "       122.94795619, 126.85846035, 217.79918548, 199.2052686 ,\n",
       "       123.42023802, 154.19075213, 146.2669768 , 112.40128412,\n",
       "        80.42448582,  77.96472134, 169.32977609,  81.10892485,\n",
       "        97.26108764,  97.98086796, 179.31830771, 275.58154656,\n",
       "       206.20895128, 146.76562108, 282.5643577 , 202.33755312,\n",
       "        98.43145491])"
      ]
     },
     "execution_count": 55,
     "metadata": {},
     "output_type": "execute_result"
    }
   ],
   "source": [
    "y_pred"
   ]
  },
  {
   "cell_type": "code",
   "execution_count": 56,
   "id": "7159b7d5",
   "metadata": {},
   "outputs": [
    {
     "data": {
      "text/plain": [
       "0.4534503034722803"
      ]
     },
     "execution_count": 56,
     "metadata": {},
     "output_type": "execute_result"
    }
   ],
   "source": [
    "r2_score(y_tset,y_pred)"
   ]
  },
  {
   "cell_type": "code",
   "execution_count": null,
   "id": "7cc9b842",
   "metadata": {},
   "outputs": [],
   "source": []
  }
 ],
 "metadata": {
  "kernelspec": {
   "display_name": "Python 3",
   "language": "python",
   "name": "python3"
  },
  "language_info": {
   "codemirror_mode": {
    "name": "ipython",
    "version": 3
   },
   "file_extension": ".py",
   "mimetype": "text/x-python",
   "name": "python",
   "nbconvert_exporter": "python",
   "pygments_lexer": "ipython3",
   "version": "3.11.9"
  }
 },
 "nbformat": 4,
 "nbformat_minor": 5
}
