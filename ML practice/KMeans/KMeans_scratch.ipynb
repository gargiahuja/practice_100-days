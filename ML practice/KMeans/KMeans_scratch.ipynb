{
 "cells": [
  {
   "cell_type": "code",
   "execution_count": 1,
   "id": "31d09b38",
   "metadata": {},
   "outputs": [],
   "source": [
    "import random\n",
    "import numpy as np"
   ]
  },
  {
   "cell_type": "code",
   "execution_count": 2,
   "id": "3a541a0c",
   "metadata": {},
   "outputs": [],
   "source": [
    "class KMeans:\n",
    "    def __init__(self,n_clusters=2,max_iter=100):\n",
    "        self.n_clusters=n_clusters\n",
    "        self.max_iter=max_iter\n",
    "        self.centroids=None\n",
    "    \n",
    "    def fit_predict(self,x):\n",
    "        random_index=random.sample(range(0,x.shape[0]),self.n_clusters)\n",
    "        self.centroids=x[random_index]\n",
    "\n",
    "        for i in range(0,self.max_iter):\n",
    "            cluster_group=self.assign_clusters(x)\n",
    "            old_centroids=self.centroids\n",
    "\n",
    "            self.centroids=self.move_centroids(x,cluster_group)\n",
    "            if (old_centroids == self.centroids).all():\n",
    "                break\n",
    "        return cluster_group\n",
    "    \n",
    "    def assign_clusters(self,x):\n",
    "        cluster_group=[]\n",
    "        distances=[]\n",
    "\n",
    "        for row in x:\n",
    "            for centroid in self.centroids:\n",
    "                distances.append(np.sqrt(np.dot(row-centroid,row-centroid)))\n",
    "            min_distance=min(distances)\n",
    "            index_pos=distances.index(min_distance)\n",
    "            cluster_group.append(index_pos)\n",
    "            distances.clear()\n",
    "        return np.array(cluster_group)\n",
    "    \n",
    "    def move_centroids(self,x,cluster_group):\n",
    "        new_centroids=[]\n",
    "        cluster_type = np.unique(cluster_group)\n",
    "\n",
    "        for type in cluster_type:\n",
    "            new_centroids.append(x[cluster_group==type].mean(axis=0))\n",
    "        return np.array(new_centroids)"
   ]
  },
  {
   "cell_type": "code",
   "execution_count": 3,
   "id": "fc10bae3",
   "metadata": {},
   "outputs": [],
   "source": [
    "from sklearn.datasets import make_blobs\n",
    "import matplotlib.pyplot as plt\n",
    "import pandas as pd"
   ]
  },
  {
   "cell_type": "code",
   "execution_count": 4,
   "id": "c344e48c",
   "metadata": {},
   "outputs": [],
   "source": [
    "df=pd.read_csv(r\"F:\\ML\\100 days ml\\practice\\data\\student_clustering.csv\")"
   ]
  },
  {
   "cell_type": "code",
   "execution_count": 5,
   "id": "3e773eac",
   "metadata": {},
   "outputs": [
    {
     "data": {
      "text/html": [
       "<div>\n",
       "<style scoped>\n",
       "    .dataframe tbody tr th:only-of-type {\n",
       "        vertical-align: middle;\n",
       "    }\n",
       "\n",
       "    .dataframe tbody tr th {\n",
       "        vertical-align: top;\n",
       "    }\n",
       "\n",
       "    .dataframe thead th {\n",
       "        text-align: right;\n",
       "    }\n",
       "</style>\n",
       "<table border=\"1\" class=\"dataframe\">\n",
       "  <thead>\n",
       "    <tr style=\"text-align: right;\">\n",
       "      <th></th>\n",
       "      <th>cgpa</th>\n",
       "      <th>iq</th>\n",
       "    </tr>\n",
       "  </thead>\n",
       "  <tbody>\n",
       "    <tr>\n",
       "      <th>0</th>\n",
       "      <td>5.13</td>\n",
       "      <td>88</td>\n",
       "    </tr>\n",
       "    <tr>\n",
       "      <th>1</th>\n",
       "      <td>5.90</td>\n",
       "      <td>113</td>\n",
       "    </tr>\n",
       "    <tr>\n",
       "      <th>2</th>\n",
       "      <td>8.36</td>\n",
       "      <td>93</td>\n",
       "    </tr>\n",
       "    <tr>\n",
       "      <th>3</th>\n",
       "      <td>8.27</td>\n",
       "      <td>97</td>\n",
       "    </tr>\n",
       "    <tr>\n",
       "      <th>4</th>\n",
       "      <td>5.45</td>\n",
       "      <td>110</td>\n",
       "    </tr>\n",
       "  </tbody>\n",
       "</table>\n",
       "</div>"
      ],
      "text/plain": [
       "   cgpa   iq\n",
       "0  5.13   88\n",
       "1  5.90  113\n",
       "2  8.36   93\n",
       "3  8.27   97\n",
       "4  5.45  110"
      ]
     },
     "execution_count": 5,
     "metadata": {},
     "output_type": "execute_result"
    }
   ],
   "source": [
    "df.head()"
   ]
  },
  {
   "cell_type": "code",
   "execution_count": 6,
   "id": "bf0d2ffe",
   "metadata": {},
   "outputs": [],
   "source": [
    "x=df.iloc[:,:].values"
   ]
  },
  {
   "cell_type": "code",
   "execution_count": 24,
   "id": "471fb00f",
   "metadata": {},
   "outputs": [],
   "source": [
    "km=KMeans(n_clusters=4,max_iter=500)\n",
    "y_mean=km.fit_predict(x)"
   ]
  },
  {
   "cell_type": "code",
   "execution_count": 25,
   "id": "81b8aa75",
   "metadata": {},
   "outputs": [
    {
     "data": {
      "text/plain": [
       "array([0, 2, 1, 3, 2, 2, 3, 2, 2, 1, 0, 2, 3, 0, 2, 3, 2, 1, 2, 2, 3, 0,\n",
       "       1, 0, 0, 3, 0, 2, 1, 2, 2, 2, 2, 2, 3, 3, 2, 2, 0, 2, 0, 3, 1, 0,\n",
       "       2, 2, 1, 2, 2, 2, 0, 0, 2, 3, 2, 2, 2, 2, 2, 2, 3, 3, 3, 2, 0, 2,\n",
       "       1, 0, 2, 3, 2, 2, 1, 0, 2, 2, 2, 2, 0, 1, 1, 2, 2, 0, 2, 0, 2, 2,\n",
       "       2, 2, 2, 2, 1, 0, 3, 1, 2, 3, 1, 2, 2, 0, 0, 2, 0, 0, 1, 0, 2, 2,\n",
       "       1, 2, 2, 2, 1, 2, 3, 2, 2, 0, 0, 2, 1, 2, 3, 0, 3, 2, 0, 3, 1, 2,\n",
       "       0, 0, 2, 2, 2, 0, 3, 3, 1, 0, 2, 0, 0, 2, 0, 2, 2, 0, 2, 0, 2, 2,\n",
       "       0, 3, 2, 2, 2, 1, 0, 2, 2, 1, 2, 0, 2, 0, 0, 2, 2, 2, 2, 0, 0, 3,\n",
       "       2, 2, 0, 2, 2, 2, 2, 2, 3, 0, 1, 1, 2, 2, 1, 1, 0, 0, 3, 0, 2, 2,\n",
       "       2, 2])"
      ]
     },
     "execution_count": 25,
     "metadata": {},
     "output_type": "execute_result"
    }
   ],
   "source": [
    "y_mean"
   ]
  },
  {
   "cell_type": "code",
   "execution_count": 26,
   "id": "c57708e9",
   "metadata": {},
   "outputs": [
    {
     "data": {
      "text/plain": [
       "<matplotlib.collections.PathCollection at 0x1d47bea78d0>"
      ]
     },
     "execution_count": 26,
     "metadata": {},
     "output_type": "execute_result"
    },
    {
     "data": {
      "image/png": "[encoded data removed]",
      "text/plain": [
       "<Figure size 640x480 with 1 Axes>"
      ]
     },
     "metadata": {},
     "output_type": "display_data"
    }
   ],
   "source": [
    "plt.scatter(x[y_mean==0,0],x[y_mean==0,1],color='blue')\n",
    "plt.scatter(x[y_mean==1,0],x[y_mean==1,1],color='green')\n",
    "plt.scatter(x[y_mean==2,0],x[y_mean==2,1],color='yellow')\n",
    "plt.scatter(x[y_mean==3,0],x[y_mean==3,1],color='red')"
   ]
  },
  {
   "cell_type": "code",
   "execution_count": null,
   "id": "78b45ec6",
   "metadata": {},
   "outputs": [],
   "source": []
  }
 ],
 "metadata": {
  "kernelspec": {
   "display_name": "Python 3",
   "language": "python",
   "name": "python3"
  },
  "language_info": {
   "codemirror_mode": {
    "name": "ipython",
    "version": 3
   },
   "file_extension": ".py",
   "mimetype": "text/x-python",
   "name": "python",
   "nbconvert_exporter": "python",
   "pygments_lexer": "ipython3",
   "version": "3.11.9"
  }
 },
 "nbformat": 4,
 "nbformat_minor": 5
}
